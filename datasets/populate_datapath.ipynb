{
 "cells": [
  {
   "cell_type": "code",
   "execution_count": 1,
   "metadata": {},
   "outputs": [
    {
     "data": {
      "application/javascript": [
       "IPython.notebook.save_notebook()\n",
       "IPython.notebook.kernel.execute('nb_name = \"' + IPython.notebook.notebook_name + '\"')"
      ],
      "text/plain": [
       "<IPython.core.display.Javascript object>"
      ]
     },
     "metadata": {},
     "output_type": "display_data"
    }
   ],
   "source": [
    "%%javascript\n",
    "IPython.notebook.save_notebook()\n",
    "IPython.notebook.kernel.execute('nb_name = \"' + IPython.notebook.notebook_name + '\"')"
   ]
  },
  {
   "cell_type": "code",
   "execution_count": 2,
   "metadata": {},
   "outputs": [],
   "source": [
    "# #exclude\n",
    "# from ffwdpy import JupNb\n",
    "# jupnb = JupNb()\n",
    "# jupnb.write_nb2py(nb_name)"
   ]
  },
  {
   "cell_type": "code",
   "execution_count": 3,
   "metadata": {},
   "outputs": [
    {
     "data": {
      "application/javascript": [
       "\n",
       "IPython.tab_as_tab_everywhere = function(use_tabs) {\n",
       "\tif (use_tabs === undefined) {\n",
       "\t\tuse_tabs = true; \n",
       "\t}\n",
       "\n",
       "\t// apply setting to all current CodeMirror instances\n",
       "\tIPython.notebook.get_cells().map(\n",
       "\t\tfunction(c) {  return c.code_mirror.options.indentWithTabs=use_tabs;  }\n",
       "\t);\n",
       "\t// make sure new CodeMirror instances created in the future also use this setting\n",
       "\tCodeMirror.defaults.indentWithTabs=use_tabs;\n",
       "\t\n",
       "\t};\n",
       "\n",
       "IPython.tab_as_tab_everywhere()"
      ],
      "text/plain": [
       "<IPython.core.display.Javascript object>"
      ]
     },
     "metadata": {},
     "output_type": "display_data"
    }
   ],
   "source": [
    "%%javascript\n",
    "\n",
    "IPython.tab_as_tab_everywhere = function(use_tabs) {\n",
    "\tif (use_tabs === undefined) {\n",
    "\t\tuse_tabs = true; \n",
    "\t}\n",
    "\n",
    "\t// apply setting to all current CodeMirror instances\n",
    "\tIPython.notebook.get_cells().map(\n",
    "\t\tfunction(c) {  return c.code_mirror.options.indentWithTabs=use_tabs;  }\n",
    "\t);\n",
    "\t// make sure new CodeMirror instances created in the future also use this setting\n",
    "\tCodeMirror.defaults.indentWithTabs=use_tabs;\n",
    "\t\n",
    "\t};\n",
    "\n",
    "IPython.tab_as_tab_everywhere()"
   ]
  },
  {
   "cell_type": "code",
   "execution_count": 4,
   "metadata": {},
   "outputs": [],
   "source": [
    "# GPU setup\n",
    "import os\n",
    "os.environ[\"CUDA_DEVICE_ORDER\"]=\"PCI_BUS_ID\" \n",
    "os.environ[\"CUDA_VISIBLE_DEVICES\"]=\"8\""
   ]
  },
  {
   "cell_type": "markdown",
   "metadata": {
    "id": "_9dgq7q6AQ9n"
   },
   "source": [
    "# Import Necessary Packages"
   ]
  },
  {
   "cell_type": "code",
   "execution_count": 5,
   "metadata": {
    "colab": {
     "base_uri": "https://localhost:8080/"
    },
    "id": "Fn9cAF4CA6tZ",
    "outputId": "96aa49a1-d4ab-4501-f2e4-e6dcffdccd3d"
   },
   "outputs": [
    {
     "name": "stdout",
     "output_type": "stream",
     "text": [
      "cuda True\n",
      "8\n",
      "Torch version: 1.7.1+cu110\n"
     ]
    }
   ],
   "source": [
    "from torchvision import transforms\n",
    "import torch\n",
    "import matplotlib.pyplot as plt\n",
    "from mpl_toolkits.axes_grid1 import ImageGrid\n",
    "import os\n",
    "import numpy as np\n",
    "import torch\n",
    "from tqdm.notebook import tqdm\n",
    "from torchvision import transforms\n",
    "import matplotlib.pyplot as plt\n",
    "import random\n",
    "import numpy as np\n",
    "from PIL import Image\n",
    "import torchvision   \n",
    "import torch.nn as nn\n",
    "import torch.nn.functional as F\n",
    "from torch.utils.data import Dataset, DataLoader\n",
    "import sklearn\n",
    "from torch import nn\n",
    "from torch.nn.utils.rnn import *\n",
    "import fnmatch\n",
    "from torch.utils.tensorboard import SummaryWriter\n",
    "import clip \n",
    "\n",
    "cuda = torch.cuda.is_available()\n",
    "print(\"cuda\", cuda)\n",
    "num_workers = 8 if cuda else 0\n",
    "print(num_workers)\n",
    "print(\"Torch version:\", torch.__version__)"
   ]
  },
  {
   "cell_type": "code",
   "execution_count": 6,
   "metadata": {},
   "outputs": [],
   "source": [
    "import sys\n",
    "sys.path.insert(0, \"/data3/puppala/projects/\")"
   ]
  },
  {
   "cell_type": "code",
   "execution_count": 7,
   "metadata": {
    "id": "fp9kO_-M9XT0"
   },
   "outputs": [],
   "source": [
    "from Vid_CLIP.datasets.kinetics import Mapped_Dataset, Unmapped_Dataset"
   ]
  },
  {
   "cell_type": "code",
   "execution_count": 8,
   "metadata": {
    "colab": {
     "base_uri": "https://localhost:8080/"
    },
    "id": "YyS2jVIF8CEI",
    "outputId": "43379bff-b47c-46e5-97a2-76963902ab2c"
   },
   "outputs": [],
   "source": [
    "# Dataloader train\n",
    "train_dataset = Mapped_Dataset(\"/data3/puppala/data/kinetics_embeddings/training\")\n",
    "val_dataset = Mapped_Dataset(\"/data3/puppala/data/kinetics_embeddings/validation\")"
   ]
  },
  {
   "cell_type": "code",
   "execution_count": 9,
   "metadata": {},
   "outputs": [],
   "source": [
    "with open('train_datapaths.txt', 'w') as f:\n",
    "\tpaths = [x.replace('/data3/puppala/data/', '') for x in train_dataset.data]\n",
    "\tf.write('\\n'.join(paths))\n",
    "\t\n",
    "with open('validation_datapaths.txt', 'w') as f:\n",
    "\tpaths = [x.replace('/data3/puppala/data/', '') for x in val_dataset.data]\n",
    "\tf.write('\\n'.join(paths))"
   ]
  },
  {
   "cell_type": "code",
   "execution_count": null,
   "metadata": {},
   "outputs": [],
   "source": [
    "\n",
    "\n",
    "\n",
    "\n",
    "\n",
    "\n",
    "\n",
    "\n",
    "\n",
    "\n",
    "\n",
    "\n",
    "\n",
    "\n",
    "\n",
    "\n",
    "\n",
    "\n",
    "\n",
    "\n",
    "\n",
    "\n",
    "\n",
    "\n"
   ]
  }
 ],
 "metadata": {
  "accelerator": "GPU",
  "colab": {
   "collapsed_sections": [],
   "name": "LSTM_FULL.ipynb",
   "provenance": [],
   "toc_visible": true
  },
  "kernelspec": {
   "display_name": "Python 3",
   "language": "python",
   "name": "python3"
  },
  "language_info": {
   "codemirror_mode": {
    "name": "ipython",
    "version": 3
   },
   "file_extension": ".py",
   "mimetype": "text/x-python",
   "name": "python",
   "nbconvert_exporter": "python",
   "pygments_lexer": "ipython3",
   "version": "3.7.3"
  }
 },
 "nbformat": 4,
 "nbformat_minor": 1
}
