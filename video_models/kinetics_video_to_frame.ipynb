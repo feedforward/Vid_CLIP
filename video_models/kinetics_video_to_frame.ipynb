{
  "nbformat": 4,
  "nbformat_minor": 0,
  "metadata": {
    "colab": {
      "name": "kinetics_video_to_frame.ipynb",
      "provenance": [],
      "collapsed_sections": [],
      "toc_visible": true
    },
    "kernelspec": {
      "name": "python3",
      "display_name": "Python 3"
    },
    "language_info": {
      "name": "python"
    }
  },
  "cells": [
    {
      "cell_type": "code",
      "metadata": {
        "id": "PgLGwU_nrRbL"
      },
      "source": [
        "import pandas\n",
        "import cv2\n",
        "import os"
      ],
      "execution_count": 2,
      "outputs": []
    },
    {
      "cell_type": "markdown",
      "metadata": {
        "id": "lPvZymGEyaeT"
      },
      "source": [
        "## Function to convert Video to Frames"
      ]
    },
    {
      "cell_type": "code",
      "metadata": {
        "id": "gngwdskXrHKI"
      },
      "source": [
        "def video_to_frames(video_name,dest_name):\n",
        "  vidcap = cv2.VideoCapture(os.path.join(video_name,os.listdir(video_name)[0]))\n",
        "  success,image = vidcap.read()\n",
        "  count = 0\n",
        "  while success:\n",
        "    file_name = \"frame\" + str(count) + \".jpeg\"\n",
        "    file_path = os.path.join(dest_name,file_name) \n",
        "    cv2.imwrite(file_path,image)        \n",
        "    success,image = vidcap.read()\n",
        "    count += 1"
      ],
      "execution_count": 27,
      "outputs": []
    },
    {
      "cell_type": "code",
      "metadata": {
        "id": "TRx6BDa1wzKB"
      },
      "source": [
        "# may change depening upon the number of videos in each folder for a class\n",
        "max_video = 8"
      ],
      "execution_count": 28,
      "outputs": []
    },
    {
      "cell_type": "markdown",
      "metadata": {
        "id": "gfHjK5oQye4z"
      },
      "source": [
        "# Iterate through each directory and do the conversion"
      ]
    },
    {
      "cell_type": "code",
      "metadata": {
        "id": "3KjEI2nvrNVV"
      },
      "source": [
        "source_directory = '/content/drive/MyDrive/kinetics-downloader/validation_vids'\n",
        "dest_directory = '/content/drive/MyDrive/kinetics-downloader/NEW_PROCESSED'\n",
        "for filename in os.listdir(source_directory):\n",
        "  video_path = os.path.join(source_directory,filename) \n",
        "  if len(os.listdir(video_path))>max_video:\n",
        "    class_path = os.path.join(dest_directory,filename)\n",
        "    if not os.path.exists(class_path):\n",
        "      os.makedirs(class_path) \n",
        "    cnt = 1  \n",
        "    for mp4 in os.listdir(video_path):\n",
        "      frame_path =  os.path.join(class_path,str(cnt))\n",
        "      if not os.path.exists(frame_path):\n",
        "        os.makedirs(frame_path) \n",
        "      video_to_frames(video_path,frame_path)\n",
        "      cnt+=1"
      ],
      "execution_count": null,
      "outputs": []
    },
    {
      "cell_type": "code",
      "metadata": {
        "id": "WvyDkgsq9f9r"
      },
      "source": [
        "len_list = []\n",
        "name_list = []\n",
        "for filename in os.listdir(source_directory):\n",
        "  video_path = os.path.join(source_directory,filename) \n",
        "  if len(os.listdir(video_path))>=8:\n",
        "         len_list.append(len(os.listdir(video_path)))\n",
        "         name_list.append(filename)\n"
      ],
      "execution_count": 23,
      "outputs": []
    },
    {
      "cell_type": "code",
      "metadata": {
        "colab": {
          "base_uri": "https://localhost:8080/"
        },
        "id": "YrGsyo9E-Tpw",
        "outputId": "25fc3d6a-a43e-43bd-8eaf-104173309697"
      },
      "source": [
        "len(len_list)"
      ],
      "execution_count": 22,
      "outputs": [
        {
          "output_type": "execute_result",
          "data": {
            "text/plain": [
              "25"
            ]
          },
          "metadata": {
            "tags": []
          },
          "execution_count": 22
        }
      ]
    },
    {
      "cell_type": "code",
      "metadata": {
        "colab": {
          "base_uri": "https://localhost:8080/"
        },
        "id": "u2UmCYvTAQjU",
        "outputId": "2e237012-17e7-4d68-d448-9c0f67b759d9"
      },
      "source": [
        "name_list"
      ],
      "execution_count": 24,
      "outputs": [
        {
          "output_type": "execute_result",
          "data": {
            "text/plain": [
              "['making tea',\n",
              " 'shaking head',\n",
              " 'skiing slalom',\n",
              " 'bobsledding',\n",
              " 'high kick',\n",
              " 'scrambling eggs',\n",
              " 'bee keeping',\n",
              " 'swinging on something',\n",
              " 'washing hands',\n",
              " 'laying bricks',\n",
              " 'push up',\n",
              " 'doing nails',\n",
              " 'massaging legs',\n",
              " 'using computer',\n",
              " 'clapping',\n",
              " 'drinking beer',\n",
              " 'eating chips',\n",
              " 'riding mule',\n",
              " 'petting animal (not cat)',\n",
              " 'frying vegetables',\n",
              " 'skiing (not slalom or crosscountry)',\n",
              " 'snowkiting',\n",
              " \"massaging person's head\",\n",
              " 'cutting nails',\n",
              " 'picking fruit']"
            ]
          },
          "metadata": {
            "tags": []
          },
          "execution_count": 24
        }
      ]
    },
    {
      "cell_type": "code",
      "metadata": {
        "colab": {
          "base_uri": "https://localhost:8080/"
        },
        "id": "GszGr2kz93cx",
        "outputId": "4dfac299-1190-4e2d-9c9d-74fb83547857"
      },
      "source": [
        "import torch\n",
        "len_list = torch.tensor(len_list)\n",
        "torch.mode(len_list)"
      ],
      "execution_count": 10,
      "outputs": [
        {
          "output_type": "stream",
          "text": [
            "/usr/local/lib/python3.7/dist-packages/ipykernel_launcher.py:2: UserWarning: To copy construct from a tensor, it is recommended to use sourceTensor.clone().detach() or sourceTensor.clone().detach().requires_grad_(True), rather than torch.tensor(sourceTensor).\n",
            "  \n"
          ],
          "name": "stderr"
        },
        {
          "output_type": "execute_result",
          "data": {
            "text/plain": [
              "torch.return_types.mode(values=tensor(4), indices=tensor(147))"
            ]
          },
          "metadata": {
            "tags": []
          },
          "execution_count": 10
        }
      ]
    }
  ]
}