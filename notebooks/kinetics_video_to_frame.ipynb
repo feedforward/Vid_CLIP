{
  "nbformat": 4,
  "nbformat_minor": 0,
  "metadata": {
    "colab": {
      "name": "kinetics_video_to_frame.ipynb",
      "provenance": []
    },
    "kernelspec": {
      "name": "python3",
      "display_name": "Python 3"
    },
    "language_info": {
      "name": "python"
    }
  },
  "cells": [
    {
      "cell_type": "code",
      "metadata": {
        "id": "PgLGwU_nrRbL"
      },
      "source": [
        "import pandas\n",
        "import cv2\n",
        "import os"
      ],
      "execution_count": null,
      "outputs": []
    },
    {
      "cell_type": "markdown",
      "metadata": {
        "id": "lPvZymGEyaeT"
      },
      "source": [
        "## Function to convert Video to Frames"
      ]
    },
    {
      "cell_type": "code",
      "metadata": {
        "id": "gngwdskXrHKI"
      },
      "source": [
        "def video_to_frames(video_name,dest_name):\n",
        "  vidcap = cv2.VideoCapture(os.path.join(video_name,os.listdir(video_name)[0]))\n",
        "  success,image = vidcap.read()\n",
        "  count = 0\n",
        "  while success:\n",
        "    file_name = \"frame\" + str(count) + \".jpeg\"\n",
        "    file_path = os.path.join(dest_name,file_name) \n",
        "    cv2.imwrite(file_path,image)        \n",
        "    success,image = vidcap.read()\n",
        "    count += 1"
      ],
      "execution_count": null,
      "outputs": []
    },
    {
      "cell_type": "code",
      "metadata": {
        "id": "TRx6BDa1wzKB"
      },
      "source": [
        "# may change depening upon the number of videos in each folder for a class\n",
        "max_video = 10"
      ],
      "execution_count": null,
      "outputs": []
    },
    {
      "cell_type": "markdown",
      "metadata": {
        "id": "gfHjK5oQye4z"
      },
      "source": [
        "# Iterate through each directory and do the conversion"
      ]
    },
    {
      "cell_type": "code",
      "metadata": {
        "id": "3KjEI2nvrNVV"
      },
      "source": [
        "source_directory = '/content/drive/MyDrive/kinetics-downloader/validation_vids'\n",
        "dest_directory = '/content/drive/MyDrive/kinetics-downloader/NEW_PROCESSED'\n",
        "for filename in os.listdir(source_directory):\n",
        "  video_path = os.path.join(source_directory,filename) \n",
        "  if len(os.listdir(video_path))>max_video:\n",
        "    class_path = os.path.join(dest_directory,filename)\n",
        "    if not os.path.exists(class_path):\n",
        "      os.makedirs(class_path) \n",
        "    cnt = 1  \n",
        "    for mp4 in os.listdir(video_path):\n",
        "      frame_path =  os.path.join(class_path,str(cnt))\n",
        "      video_to_frames(video_path,frame_path)\n",
        "      cnt+=1"
      ],
      "execution_count": null,
      "outputs": []
    }
  ]
}