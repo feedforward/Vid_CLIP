{
 "cells": [
  {
   "cell_type": "code",
   "execution_count": 1,
   "metadata": {},
   "outputs": [
    {
     "data": {
      "application/javascript": [
       "IPython.notebook.save_notebook()\n",
       "IPython.notebook.kernel.execute('nb_name = \"' + IPython.notebook.notebook_name + '\"')\n"
      ],
      "text/plain": [
       "<IPython.core.display.Javascript object>"
      ]
     },
     "metadata": {},
     "output_type": "display_data"
    }
   ],
   "source": [
    "%%javascript\n",
    "IPython.notebook.save_notebook()\n",
    "IPython.notebook.kernel.execute('nb_name = \"' + IPython.notebook.notebook_name + '\"')"
   ]
  },
  {
   "cell_type": "code",
   "execution_count": null,
   "metadata": {},
   "outputs": [],
   "source": [
    "#exclude\n",
    "from ffwdpy import JupNb\n",
    "jupnb = JupNb()\n",
    "jupnb.write_nb2py(nb_name)"
   ]
  },
  {
   "cell_type": "code",
   "execution_count": null,
   "metadata": {},
   "outputs": [],
   "source": [
    "%%javascript\n",
    "\n",
    "IPython.tab_as_tab_everywhere = function(use_tabs) {\n",
    "\tif (use_tabs === undefined) {\n",
    "\t\tuse_tabs = true; \n",
    "\t}\n",
    "\n",
    "\t// apply setting to all current CodeMirror instances\n",
    "\tIPython.notebook.get_cells().map(\n",
    "\t\tfunction(c) {  return c.code_mirror.options.indentWithTabs=use_tabs;  }\n",
    "\t);\n",
    "\t// make sure new CodeMirror instances created in the future also use this setting\n",
    "\tCodeMirror.defaults.indentWithTabs=use_tabs;\n",
    "\t\n",
    "\t};\n",
    "\n",
    "IPython.tab_as_tab_everywhere()"
   ]
  },
  {
   "cell_type": "code",
   "execution_count": null,
   "metadata": {},
   "outputs": [],
   "source": [
    "# GPU setup\n",
    "import os\n",
    "os.environ[\"CUDA_DEVICE_ORDER\"]=\"PCI_BUS_ID\" \n",
    "os.environ[\"CUDA_VISIBLE_DEVICES\"]=\"0\""
   ]
  },
  {
   "cell_type": "code",
   "execution_count": null,
   "metadata": {
    "colab": {
     "base_uri": "https://localhost:8080/"
    },
    "id": "Fn9cAF4CA6tZ",
    "outputId": "d7664f87-79d7-4107-833a-4544ab44be34"
   },
   "outputs": [],
   "source": [
    "from torchvision import transforms\n",
    "import torch\n",
    "import matplotlib.pyplot as plt\n",
    "from mpl_toolkits.axes_grid1 import ImageGrid\n",
    "import os\n",
    "import numpy as np\n",
    "import torch\n",
    "import clip\n",
    "from tqdm.notebook import tqdm\n",
    "from torchvision import transforms\n",
    "import matplotlib.pyplot as plt\n",
    "import cv2\n",
    "import random\n",
    "import os\n",
    "import numpy as np\n",
    "from PIL import Image\n",
    "import torchvision   \n",
    "import torch.nn as nn\n",
    "import torch.nn.functional as F\n",
    "from torch.utils.data import Dataset, DataLoader\n",
    "import sklearn\n",
    "from torch import nn\n",
    "from torch.nn.utils.rnn import *\n",
    "\n",
    "cuda = torch.cuda.is_available()\n",
    "print(\"cuda\", cuda)\n",
    "num_workers = 8 if cuda else 0\n",
    "print(num_workers)\n",
    "print(\"Torch version:\", torch.__version__)"
   ]
  },
  {
   "cell_type": "markdown",
   "metadata": {
    "id": "vy7P1dQokAz4"
   },
   "source": [
    "# Load CLIP Model"
   ]
  },
  {
   "cell_type": "code",
   "execution_count": null,
   "metadata": {
    "colab": {
     "base_uri": "https://localhost:8080/"
    },
    "id": "uLFS29hnhlY4",
    "outputId": "fb9c957e-23bc-4c43-9eb3-808be4b84b38"
   },
   "outputs": [],
   "source": [
    "print(\"Avaliable Models: \", clip.available_models())\n",
    "model, preprocess = clip.load(\"RN50\") # clip.load(\"ViT-B/32\") #\n",
    "\n",
    "input_resolution = model.input_resolution #.item()\n",
    "context_length = model.context_length #.item()\n",
    "vocab_size = model.vocab_size #.item()\n",
    "\n",
    "print(\"Model parameters:\", f\"{np.sum([int(np.prod(p.shape)) for p in model.parameters()]):,}\")\n",
    "print(\"Input resolution:\", input_resolution)\n",
    "print(\"Context length:\", context_length)\n",
    "print(\"Vocab size:\", vocab_size)"
   ]
  },
  {
   "cell_type": "markdown",
   "metadata": {
    "id": "mqcK5FsoRYbN"
   },
   "source": [
    "# Selected classes and mapping for kinetics dataset"
   ]
  },
  {
   "cell_type": "code",
   "execution_count": null,
   "metadata": {
    "colab": {
     "base_uri": "https://localhost:8080/"
    },
    "id": "IfzZSBWEQgJt",
    "outputId": "e0546317-c86f-4679-e1ae-c916a8d95e3b"
   },
   "outputs": [],
   "source": [
    "labels = ['making_tea',\n",
    "\t\t'shaking_head',\n",
    "\t\t'skiing_slalom',\n",
    "\t\t'bobsledding',\n",
    "\t\t'high_kick',\n",
    "\t\t'scrambling_eggs',\n",
    "\t\t'bee_keeping',\n",
    "\t\t'swinging_on_something',\n",
    "\t\t'washing_hands',\n",
    "\t\t'laying_bricks',\n",
    "\t\t'push_up',\n",
    "\t\t'doing_nails',\n",
    "\t\t'massaging_legs',\n",
    "\t\t'using_computer',\n",
    "\t\t'clapping',\n",
    "\t\t'drinking_beer',\n",
    "\t\t'eating_chips',\n",
    "\t\t'riding_mule',\n",
    "\t\t'petting_animal_(not_cat)',\n",
    "\t\t'frying_vegetables',\n",
    "\t\t'skiing_(not_slalom_or_crosscountry)',\n",
    "\t\t'snowkiting',\n",
    "\t\t'massaging_person\\'s_head',\n",
    "\t\t'cutting_nails',\n",
    "\t\t'picking_fruit']\n",
    "\n",
    "map_id = {}\n",
    "i=0\n",
    "for label in labels:\n",
    "\tmap_id[label]=i\n",
    "\ti+=1\n",
    "\n",
    "map_id"
   ]
  },
  {
   "cell_type": "code",
   "execution_count": null,
   "metadata": {},
   "outputs": [],
   "source": [
    "import os\n",
    "import pdb\n",
    "ROOT = \"/data2/puppala/data/kinetics_jpg/training\"\n",
    "DEST = \"/data2/puppala/data/kinetics_embeddings/training\"\n",
    "cnt = 1\n",
    "for filename in labels:\n",
    "\tif filename not in os.listdir(ROOT):\n",
    "\t\tprint(filename,\" - Missing\")"
   ]
  },
  {
   "cell_type": "code",
   "execution_count": null,
   "metadata": {
    "colab": {
     "base_uri": "https://localhost:8080/",
     "height": 402
    },
    "id": "vc4Ff4pKSo0O",
    "outputId": "09ca97c2-788d-4d1c-df31-c760db447562"
   },
   "outputs": [],
   "source": [
    "import os\n",
    "import pdb\n",
    "ROOT = \"/data2/puppala/data/kinetics_jpg/training\"\n",
    "DEST = \"/data2/puppala/data/kinetics_embeddings/training\"\n",
    "cnt = 1\n",
    "class_names = os.listdir(ROOT)\n",
    "len_classes = len(labels)\n",
    "for cls_idx, filename in enumerate(labels):\n",
    "\tclass_file = os.path.join(ROOT,filename)\n",
    "\trandom_tags = os.listdir(class_file)\n",
    "\tlen_random_tags = len(random_tags)\n",
    "\tfor rand_id, random_tag in enumerate(random_tags):\n",
    "\t\ttry:\n",
    "\t\t\tvideo_name = os.path.join(class_file,random_tag)\n",
    "\t\t\t# filename = filename.replace(\"_\",\" \")\n",
    "\t\t\tcount = 0\n",
    "\t\t\tframes = sorted([ x for x in os.listdir(video_name) if x.endswith('.jpg')])\n",
    "\t\t\tN = len(frames)\n",
    "\t\t\tn = N//100\n",
    "\t\t\tselected_frames = np.arange(0,N,n).tolist()[0:100]\n",
    "\t\t\tfor frame in frames:\n",
    "\t\t\t\tif count in selected_frames:\n",
    "\t\t\t\t\ttmp = str(count)\n",
    "\t\t\t\t\timage = Image.open(os.path.join(video_name,frame))\n",
    "\t\t\t\t\timage = preprocess(image)\n",
    "\t\t\t\t\timage = torch.unsqueeze(image, 0)\n",
    "\t\t\t\t\timage = image.cuda()\n",
    "\t\t\t\t\timage_features = model.encode_image(image)\n",
    "\t\t\t\t\timage_features /= image_features.norm(dim=-1, keepdim=True)\n",
    "\t\t\t\t\timage_features = image_features.detach().cpu().numpy()\n",
    "\t\t\t\t\tif count==0:\n",
    "\t\t\t\t\t\ta = image_features\n",
    "\t\t\t\t\telse:\n",
    "\t\t\t\t\t\ta = np.vstack((a,image_features))\n",
    "\t\t\t\tcount += 1\n",
    "\t\t\tcnt+=1\n",
    "\n",
    "\t\t\tlabel = map_id[filename]*np.ones(a.shape[0])\n",
    "\t\t\tfile_save = os.path.join(DEST,str(cnt))\n",
    "\t\t\tnp.savez(file_save, data=a,label=label)\n",
    "\t\t\tprint(cls_idx, '/', len_classes, '-', rand_id, '/', len_random_tags, end='\\r')\n",
    "\t\texcept:\n",
    "\t\t\tpass\n",
    "\tcnt+=1    \n"
   ]
  }
 ],
 "metadata": {
  "accelerator": "GPU",
  "colab": {
   "collapsed_sections": [],
   "name": "LSTM_FULL_PIPELINE_SHRITI (1).ipynb",
   "provenance": [],
   "toc_visible": true
  },
  "kernelspec": {
   "display_name": "Python 3",
   "language": "python",
   "name": "python3"
  },
  "language_info": {
   "codemirror_mode": {
    "name": "ipython",
    "version": 3
   },
   "file_extension": ".py",
   "mimetype": "text/x-python",
   "name": "python",
   "nbconvert_exporter": "python",
   "pygments_lexer": "ipython3",
   "version": "3.7.3"
  }
 },
 "nbformat": 4,
 "nbformat_minor": 1
}
