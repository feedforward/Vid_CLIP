{
  "nbformat": 4,
  "nbformat_minor": 0,
  "metadata": {
    "accelerator": "GPU",
    "colab": {
      "name": "LSTM_FULL.ipynb",
      "provenance": [],
      "collapsed_sections": [],
      "toc_visible": true,
      "machine_shape": "hm"
    },
    "kernelspec": {
      "display_name": "Python 3",
      "language": "python",
      "name": "python3"
    },
    "language_info": {
      "codemirror_mode": {
        "name": "ipython",
        "version": 3
      },
      "file_extension": ".py",
      "mimetype": "text/x-python",
      "name": "python",
      "nbconvert_exporter": "python",
      "pygments_lexer": "ipython3",
      "version": "3.7.3"
    }
  },
  "cells": [
    {
      "cell_type": "markdown",
      "metadata": {
        "id": "8_XEZIE36gc5"
      },
      "source": [
        "# Mount Drive"
      ]
    },
    {
      "cell_type": "code",
      "metadata": {
        "colab": {
          "base_uri": "https://localhost:8080/"
        },
        "id": "pja0alchWpiA",
        "outputId": "1991575c-857e-42cb-c1d6-fd0e3146d668"
      },
      "source": [
        "from google.colab import drive\n",
        "drive.mount('/content/drive')"
      ],
      "execution_count": 1,
      "outputs": [
        {
          "output_type": "stream",
          "text": [
            "Drive already mounted at /content/drive; to attempt to forcibly remount, call drive.mount(\"/content/drive\", force_remount=True).\n"
          ],
          "name": "stdout"
        }
      ]
    },
    {
      "cell_type": "code",
      "metadata": {
        "id": "S2KwNniVzRaR",
        "colab": {
          "base_uri": "https://localhost:8080/",
          "height": 718
        },
        "outputId": "c92418cb-82d0-4727-e5b6-a4d4e39ea8ff"
      },
      "source": [
        "!pip install git+https://github.com/openai/CLIP.git"
      ],
      "execution_count": 6,
      "outputs": [
        {
          "output_type": "stream",
          "text": [
            "Collecting git+https://github.com/openai/CLIP.git\n",
            "  Cloning https://github.com/openai/CLIP.git to /tmp/pip-req-build-akq7s808\n",
            "  Running command git clone -q https://github.com/openai/CLIP.git /tmp/pip-req-build-akq7s808\n",
            "Collecting ftfy\n",
            "\u001b[?25l  Downloading https://files.pythonhosted.org/packages/ce/b5/5da463f9c7823e0e575e9908d004e2af4b36efa8d02d3d6dad57094fcb11/ftfy-6.0.1.tar.gz (63kB)\n",
            "\u001b[K     |████████████████████████████████| 71kB 691kB/s \n",
            "\u001b[?25hRequirement already satisfied: regex in /usr/local/lib/python3.7/dist-packages (from clip==1.0) (2019.12.20)\n",
            "Requirement already satisfied: tqdm in /usr/local/lib/python3.7/dist-packages (from clip==1.0) (4.41.1)\n",
            "Collecting torch~=1.7.1\n",
            "\u001b[?25l  Downloading https://files.pythonhosted.org/packages/90/5d/095ddddc91c8a769a68c791c019c5793f9c4456a688ddd235d6670924ecb/torch-1.7.1-cp37-cp37m-manylinux1_x86_64.whl (776.8MB)\n",
            "\u001b[K     |████████████████████████████████| 776.8MB 22kB/s \n",
            "\u001b[?25hCollecting torchvision~=0.8.2\n",
            "\u001b[?25l  Downloading https://files.pythonhosted.org/packages/94/df/969e69a94cff1c8911acb0688117f95e1915becc1e01c73e7960a2c76ec8/torchvision-0.8.2-cp37-cp37m-manylinux1_x86_64.whl (12.8MB)\n",
            "\u001b[K     |████████████████████████████████| 12.8MB 55.9MB/s \n",
            "\u001b[?25hRequirement already satisfied: wcwidth in /usr/local/lib/python3.7/dist-packages (from ftfy->clip==1.0) (0.2.5)\n",
            "Requirement already satisfied: numpy in /usr/local/lib/python3.7/dist-packages (from torch~=1.7.1->clip==1.0) (1.19.5)\n",
            "Requirement already satisfied: typing-extensions in /usr/local/lib/python3.7/dist-packages (from torch~=1.7.1->clip==1.0) (3.7.4.3)\n",
            "Requirement already satisfied: pillow>=4.1.1 in /usr/local/lib/python3.7/dist-packages (from torchvision~=0.8.2->clip==1.0) (7.1.2)\n",
            "Building wheels for collected packages: clip, ftfy\n",
            "  Building wheel for clip (setup.py) ... \u001b[?25l\u001b[?25hdone\n",
            "  Created wheel for clip: filename=clip-1.0-cp37-none-any.whl size=1368708 sha256=ca50cd1711234696bc9809ccedb0d0bdf899c73c8202c972d692ed9045503387\n",
            "  Stored in directory: /tmp/pip-ephem-wheel-cache-_qhbmfvw/wheels/79/51/d7/69f91d37121befe21d9c52332e04f592e17d1cabc7319b3e09\n",
            "  Building wheel for ftfy (setup.py) ... \u001b[?25l\u001b[?25hdone\n",
            "  Created wheel for ftfy: filename=ftfy-6.0.1-cp37-none-any.whl size=41573 sha256=2017d65b9037e4c4a7ddb72fc81f4135f4d7fdc818aa1f35ab388eeccdfa13b6\n",
            "  Stored in directory: /root/.cache/pip/wheels/ae/73/c7/9056e14b04919e5c262fe80b54133b1a88d73683d05d7ac65c\n",
            "Successfully built clip ftfy\n",
            "\u001b[31mERROR: torchtext 0.9.1 has requirement torch==1.8.1, but you'll have torch 1.7.1 which is incompatible.\u001b[0m\n",
            "Installing collected packages: ftfy, torch, torchvision, clip\n",
            "  Found existing installation: torch 1.8.1+cu101\n",
            "    Uninstalling torch-1.8.1+cu101:\n",
            "      Successfully uninstalled torch-1.8.1+cu101\n",
            "  Found existing installation: torchvision 0.9.1+cu101\n",
            "    Uninstalling torchvision-0.9.1+cu101:\n",
            "      Successfully uninstalled torchvision-0.9.1+cu101\n",
            "Successfully installed clip-1.0 ftfy-6.0.1 torch-1.7.1 torchvision-0.8.2\n"
          ],
          "name": "stdout"
        },
        {
          "output_type": "display_data",
          "data": {
            "application/vnd.colab-display-data+json": {
              "pip_warning": {
                "packages": [
                  "torch",
                  "torchvision"
                ]
              }
            }
          },
          "metadata": {
            "tags": []
          }
        }
      ]
    },
    {
      "cell_type": "markdown",
      "metadata": {
        "id": "_9dgq7q6AQ9n"
      },
      "source": [
        "# Import Necessary Packages"
      ]
    },
    {
      "cell_type": "code",
      "metadata": {
        "id": "Fn9cAF4CA6tZ",
        "colab": {
          "base_uri": "https://localhost:8080/"
        },
        "outputId": "b041d352-5530-42d6-a96f-56bf55b62f69"
      },
      "source": [
        "from torchvision import transforms\n",
        "import torch\n",
        "import matplotlib.pyplot as plt\n",
        "from mpl_toolkits.axes_grid1 import ImageGrid\n",
        "import os\n",
        "import numpy as np\n",
        "import torch\n",
        "from tqdm.notebook import tqdm\n",
        "from torchvision import transforms\n",
        "import matplotlib.pyplot as plt\n",
        "import random\n",
        "import numpy as np\n",
        "from PIL import Image\n",
        "import torchvision   \n",
        "import torch.nn as nn\n",
        "import torch.nn.functional as F\n",
        "from torch.utils.data import Dataset, DataLoader\n",
        "import sklearn\n",
        "from torch import nn\n",
        "from torch.nn.utils.rnn import *\n",
        "import fnmatch\n",
        "import clip\n",
        "\n",
        "\n",
        "cuda = torch.cuda.is_available()\n",
        "print(\"cuda\", cuda)\n",
        "num_workers = 8 if cuda else 0\n",
        "print(num_workers)\n",
        "print(\"Torch version:\", torch.__version__)\n",
        "batch_size=8"
      ],
      "execution_count": 2,
      "outputs": [
        {
          "output_type": "stream",
          "text": [
            "cuda True\n",
            "8\n",
            "Torch version: 1.7.1\n"
          ],
          "name": "stdout"
        }
      ]
    },
    {
      "cell_type": "markdown",
      "metadata": {
        "id": "yaZC5i1-3Y_k"
      },
      "source": [
        "## Load CLIP Model"
      ]
    },
    {
      "cell_type": "code",
      "metadata": {
        "colab": {
          "base_uri": "https://localhost:8080/"
        },
        "id": "WVBSm-Kp3YSF",
        "outputId": "edcca663-07d8-4ca2-f303-a7e7a5c62089"
      },
      "source": [
        "print(\"Avaliable Models: \", clip.available_models())\n",
        "model, preprocess = clip.load(\"RN50\") # clip.load(\"ViT-B/32\") #\n",
        "\n",
        "input_resolution = model.input_resolution #.item()\n",
        "context_length = model.context_length #.item()\n",
        "vocab_size = model.vocab_size #.item()\n",
        "\n",
        "print(\"Model parameters:\", f\"{np.sum([int(np.prod(p.shape)) for p in model.parameters()]):,}\")\n",
        "print(\"Input resolution:\", input_resolution)\n",
        "print(\"Context length:\", context_length)\n",
        "print(\"Vocab size:\", vocab_size)"
      ],
      "execution_count": 3,
      "outputs": [
        {
          "output_type": "stream",
          "text": [
            "Avaliable Models:  ['RN50', 'RN101', 'RN50x4', 'ViT-B/32']\n",
            "Model parameters: 102,007,137\n",
            "Input resolution: tensor(224, device='cuda:0')\n",
            "Context length: tensor(77, device='cuda:0')\n",
            "Vocab size: tensor(49408, device='cuda:0')\n"
          ],
          "name": "stdout"
        }
      ]
    },
    {
      "cell_type": "markdown",
      "metadata": {
        "id": "BTYPm6rHzFYf"
      },
      "source": [
        "## Load Templates\n"
      ]
    },
    {
      "cell_type": "code",
      "metadata": {
        "id": "Q3RrYsOTzHat"
      },
      "source": [
        "templates = [\n",
        "    'a bad photo of a {}.',\n",
        "    'a photo of many {}.',\n",
        "    'a sculpture of a {}.',\n",
        "    'a photo of the hard to see {}.',\n",
        "    'a low resolution photo of the {}.',\n",
        "    'a rendering of a {}.',\n",
        "    'graffiti of a {}.',\n",
        "    'a bad photo of the {}.',\n",
        "    'a cropped photo of the {}.',\n",
        "    'a tattoo of a {}.',\n",
        "    'the embroidered {}.',\n",
        "    'a photo of a hard to see {}.',\n",
        "    'a bright photo of a {}.',\n",
        "    'a photo of a clean {}.',\n",
        "    'a photo of a dirty {}.',\n",
        "    'a dark photo of the {}.',\n",
        "    'a drawing of a {}.',\n",
        "    'a photo of my {}.',\n",
        "    'the plastic {}.',\n",
        "    'a photo of the cool {}.',\n",
        "    'a close-up photo of a {}.',\n",
        "    'a black and white photo of the {}.',\n",
        "    'a painting of the {}.',\n",
        "    'a painting of a {}.',\n",
        "    'a pixelated photo of the {}.',\n",
        "    'a sculpture of the {}.',\n",
        "    'a bright photo of the {}.',\n",
        "    'a cropped photo of a {}.',\n",
        "    'a plastic {}.',\n",
        "    'a photo of the dirty {}.',\n",
        "    'a jpeg corrupted photo of a {}.',\n",
        "    'a blurry photo of the {}.',\n",
        "    'a photo of the {}.',\n",
        "    'a good photo of the {}.',\n",
        "    'a rendering of the {}.',\n",
        "    'a {} in a video game.',\n",
        "    'a photo of one {}.',\n",
        "    'a doodle of a {}.',\n",
        "    'a close-up photo of the {}.',\n",
        "    'a photo of a {}.',\n",
        "    'the origami {}.',\n",
        "    'the {} in a video game.',\n",
        "    'a sketch of a {}.',\n",
        "    'a doodle of the {}.',\n",
        "    'a origami {}.',\n",
        "    'a low resolution photo of a {}.',\n",
        "    'the toy {}.',\n",
        "    'a rendition of the {}.',\n",
        "    'a photo of the clean {}.',\n",
        "    'a photo of a large {}.',\n",
        "    'a rendition of a {}.',\n",
        "    'a photo of a nice {}.',\n",
        "    'a photo of a weird {}.',\n",
        "    'a blurry photo of a {}.',\n",
        "    'a cartoon {}.',\n",
        "    'art of a {}.',\n",
        "    'a sketch of the {}.',\n",
        "    'a embroidered {}.',\n",
        "    'a pixelated photo of a {}.',\n",
        "    'itap of the {}.',\n",
        "    'a jpeg corrupted photo of the {}.',\n",
        "    'a good photo of a {}.',\n",
        "    'a plushie {}.',\n",
        "    'a photo of the nice {}.',\n",
        "    'a photo of the small {}.',\n",
        "    'a photo of the weird {}.',\n",
        "    'the cartoon {}.',\n",
        "    'art of the {}.',\n",
        "    'a drawing of the {}.',\n",
        "    'a photo of the large {}.',\n",
        "    'a black and white photo of a {}.',\n",
        "    'the plushie {}.',\n",
        "    'a dark photo of a {}.',\n",
        "    'itap of a {}.',\n",
        "    'graffiti of the {}.',\n",
        "    'a toy {}.',\n",
        "    'itap of my {}.',\n",
        "    'a photo of a cool {}.',\n",
        "    'a photo of a small {}.',\n",
        "    'a tattoo of the {}.',\n",
        "]"
      ],
      "execution_count": 9,
      "outputs": []
    },
    {
      "cell_type": "markdown",
      "metadata": {
        "id": "mqcK5FsoRYbN"
      },
      "source": [
        "# Selected classes and mapping for kinetics dataset"
      ]
    },
    {
      "cell_type": "code",
      "metadata": {
        "id": "IfzZSBWEQgJt"
      },
      "source": [
        "classnames = ['making tea',\n",
        " 'shaking head',\n",
        " 'skiing slalom',\n",
        " 'bobsledding',\n",
        " 'high kick',\n",
        " 'scrambling eggs',\n",
        " 'bee keeping',\n",
        " 'swinging on something',\n",
        " 'washing hands',\n",
        " 'laying bricks',\n",
        " 'push up',\n",
        " 'doing nails',\n",
        " 'massaging legs',\n",
        " 'using computer',\n",
        " 'clapping',\n",
        " 'drinking beer',\n",
        " 'eating chips',\n",
        " 'riding mule',\n",
        " 'petting animal (not cat)',\n",
        " 'frying vegetables',\n",
        " 'skiing (not slalom or crosscountry)',\n",
        " 'snowkiting',\n",
        " 'massaging person’s head',\n",
        " 'cutting nails',\n",
        " 'picking fruit']\n",
        "\n",
        "map_id = {}\n",
        "i=0\n",
        "for label in classnames:\n",
        "  map_id[label]=i\n",
        "  i+=1"
      ],
      "execution_count": 10,
      "outputs": []
    },
    {
      "cell_type": "code",
      "metadata": {
        "colab": {
          "base_uri": "https://localhost:8080/"
        },
        "id": "0BKaooMDySvb",
        "outputId": "41c5d866-67f1-4c48-c2f1-92c03eec6664"
      },
      "source": [
        "map_id"
      ],
      "execution_count": 11,
      "outputs": [
        {
          "output_type": "execute_result",
          "data": {
            "text/plain": [
              "{'bee keeping': 6,\n",
              " 'bobsledding': 3,\n",
              " 'clapping': 14,\n",
              " 'cutting nails': 23,\n",
              " 'doing nails': 11,\n",
              " 'drinking beer': 15,\n",
              " 'eating chips': 16,\n",
              " 'frying vegetables': 19,\n",
              " 'high kick': 4,\n",
              " 'laying bricks': 9,\n",
              " 'making tea': 0,\n",
              " 'massaging legs': 12,\n",
              " 'massaging person’s head': 22,\n",
              " 'petting animal (not cat)': 18,\n",
              " 'picking fruit': 24,\n",
              " 'push up': 10,\n",
              " 'riding mule': 17,\n",
              " 'scrambling eggs': 5,\n",
              " 'shaking head': 1,\n",
              " 'skiing (not slalom or crosscountry)': 20,\n",
              " 'skiing slalom': 2,\n",
              " 'snowkiting': 21,\n",
              " 'swinging on something': 7,\n",
              " 'using computer': 13,\n",
              " 'washing hands': 8}"
            ]
          },
          "metadata": {
            "tags": []
          },
          "execution_count": 11
        }
      ]
    },
    {
      "cell_type": "markdown",
      "metadata": {
        "id": "aXANFHfZygfN"
      },
      "source": [
        "## Calculate Zeroshot_classifier"
      ]
    },
    {
      "cell_type": "code",
      "metadata": {
        "colab": {
          "base_uri": "https://localhost:8080/"
        },
        "id": "X5X1lyGky7Qo",
        "outputId": "02290f87-5e23-43a0-a0fb-acfbb7771b0f"
      },
      "source": [
        "classnames_str = {x:x.replace('_', ' ') for x in classnames}\n",
        "classnames_str"
      ],
      "execution_count": 12,
      "outputs": [
        {
          "output_type": "execute_result",
          "data": {
            "text/plain": [
              "{'bee keeping': 'bee keeping',\n",
              " 'bobsledding': 'bobsledding',\n",
              " 'clapping': 'clapping',\n",
              " 'cutting nails': 'cutting nails',\n",
              " 'doing nails': 'doing nails',\n",
              " 'drinking beer': 'drinking beer',\n",
              " 'eating chips': 'eating chips',\n",
              " 'frying vegetables': 'frying vegetables',\n",
              " 'high kick': 'high kick',\n",
              " 'laying bricks': 'laying bricks',\n",
              " 'making tea': 'making tea',\n",
              " 'massaging legs': 'massaging legs',\n",
              " 'massaging person’s head': 'massaging person’s head',\n",
              " 'petting animal (not cat)': 'petting animal (not cat)',\n",
              " 'picking fruit': 'picking fruit',\n",
              " 'push up': 'push up',\n",
              " 'riding mule': 'riding mule',\n",
              " 'scrambling eggs': 'scrambling eggs',\n",
              " 'shaking head': 'shaking head',\n",
              " 'skiing (not slalom or crosscountry)': 'skiing (not slalom or crosscountry)',\n",
              " 'skiing slalom': 'skiing slalom',\n",
              " 'snowkiting': 'snowkiting',\n",
              " 'swinging on something': 'swinging on something',\n",
              " 'using computer': 'using computer',\n",
              " 'washing hands': 'washing hands'}"
            ]
          },
          "metadata": {
            "tags": []
          },
          "execution_count": 12
        }
      ]
    },
    {
      "cell_type": "code",
      "metadata": {
        "id": "7pBavcvLygFW"
      },
      "source": [
        "import pdb\n",
        "def zeroshot_classifier(classnames, act_descriptions):\n",
        "  with torch.no_grad():\n",
        "    zeroshot_weights = []\n",
        "    for classname in classnames:\n",
        "      texts = [template.format(classname) for template in templates]\n",
        "      # pdb.set_trace()\n",
        "      texts = clip.tokenize(texts).cuda() #tokenize\n",
        "      class_embeddings = model.encode_text(texts) #embed with text encoder\n",
        "      class_embeddings /= class_embeddings.norm(dim=-1, keepdim=True)\n",
        "      class_embedding = class_embeddings.mean(dim=0)\n",
        "      class_embedding /= class_embedding.norm()\n",
        "      zeroshot_weights.append(class_embedding)\n",
        "    zeroshot_weights = torch.stack(zeroshot_weights, dim=1).cuda()\n",
        "  return zeroshot_weights"
      ],
      "execution_count": 13,
      "outputs": []
    },
    {
      "cell_type": "code",
      "metadata": {
        "id": "uV0DWMeHLSpN",
        "colab": {
          "base_uri": "https://localhost:8080/"
        },
        "outputId": "28980a42-5403-4c5f-91d9-667799e94e23"
      },
      "source": [
        "a = nn.Linear(1024,25)\n",
        "a.weight.shape"
      ],
      "execution_count": 14,
      "outputs": [
        {
          "output_type": "execute_result",
          "data": {
            "text/plain": [
              "torch.Size([25, 1024])"
            ]
          },
          "metadata": {
            "tags": []
          },
          "execution_count": 14
        }
      ]
    },
    {
      "cell_type": "code",
      "metadata": {
        "id": "pIXjyyvMy05x"
      },
      "source": [
        "zeroshot_weights = zeroshot_classifier(classnames, classnames_str)\n",
        "# print(zeroshot_weights.shape)\n",
        "# zeroshot_weights1 = zeroshot_weights.expand(batch_size, zeroshot_weights.shape[0], zeroshot_weights.shape[1])\n",
        "# print(zeroshot_weights.shape)\n",
        "# print(type(zeroshot_weights))"
      ],
      "execution_count": 15,
      "outputs": []
    },
    {
      "cell_type": "code",
      "metadata": {
        "colab": {
          "base_uri": "https://localhost:8080/"
        },
        "id": "_RpsRZdoVdIu",
        "outputId": "5768d8d0-28f9-463c-8776-44b8ff23c78e"
      },
      "source": [
        "zeroshot_weights.shape"
      ],
      "execution_count": 12,
      "outputs": [
        {
          "output_type": "execute_result",
          "data": {
            "text/plain": [
              "torch.Size([1024, 25])"
            ]
          },
          "metadata": {
            "tags": []
          },
          "execution_count": 12
        }
      ]
    },
    {
      "cell_type": "code",
      "metadata": {
        "id": "3otXDszEMEAD"
      },
      "source": [
        "# zeroshot_weights_ = torch.autograd.Variable(zeroshot_weights1,requires_grad=True)"
      ],
      "execution_count": 13,
      "outputs": []
    },
    {
      "cell_type": "code",
      "metadata": {
        "id": "k_4V1GuopdcO"
      },
      "source": [
        "## Labels\n",
        "## To clip encode_text\n",
        "## 25 * 1024\n"
      ],
      "execution_count": 14,
      "outputs": []
    },
    {
      "cell_type": "code",
      "metadata": {
        "id": "MSSLHrtqpTgV"
      },
      "source": [
        "# def zeroshot_classifier(classnames, act_descriptions):\n",
        "#     with torch.no_grad():\n",
        "#         zeroshot_weights = []\n",
        "#         for classname in tqdm(classnames):\n",
        "#             #print(classname, act_descriptions[classname])\n",
        "#             des_size = len(act_descriptions[classname])\n",
        "#             texts =  [ act_descriptions[classname][x : x+100] for x in range(0, des_size, 100)]#format with class\n",
        "#             texts = [template.format(texts[0]) for template in templates]\n",
        "#             # print(\"\\n\\n\".join(texts), \"\\n###################################\\n\")\n",
        "#             texts = clip.tokenize(texts).cuda() #tokenize\n",
        "#             # print(texts.shape, \"\\n###################################\\n\")\n",
        "#             class_embeddings = model.encode_text(texts) #embed with text encoder\n",
        "#             class_embeddings /= class_embeddings.norm(dim=-1, keepdim=True)\n",
        "#             class_embedding = class_embeddings.mean(dim=0)\n",
        "            \n",
        "#             class_embedding /= class_embedding.norm()\n",
        "#             zeroshot_weights.append(class_embedding)\n",
        "#         zeroshot_weights = torch.stack(zeroshot_weights, dim=1).cuda()\n",
        "#     return zeroshot_weights\n",
        "\n",
        "\n",
        "# zeroshot_weights = zeroshot_classifier(classnames, classnames_str)"
      ],
      "execution_count": 15,
      "outputs": []
    },
    {
      "cell_type": "markdown",
      "metadata": {
        "id": "Jmyb1A98DZ6O"
      },
      "source": [
        "# DEVELOP LSTM MODEL"
      ]
    },
    {
      "cell_type": "code",
      "metadata": {
        "id": "CmbFWmb_vWpL"
      },
      "source": [
        "from torch.utils.tensorboard import SummaryWriter"
      ],
      "execution_count": 16,
      "outputs": []
    },
    {
      "cell_type": "code",
      "metadata": {
        "id": "tobEOIE4DcPA"
      },
      "source": [
        "import pdb\n",
        "# LSTM Model\n",
        "NUM_CLASSES = 25\n",
        "class Model(nn.Module):\n",
        "    def __init__(self, input_feature_size, embed_size, out_phoeneme, hidden_size):\n",
        "        super(Model, self).__init__()\n",
        "        self.layer1 = nn.Sequential(\n",
        "            nn.Conv1d(input_feature_size, embed_size , kernel_size=2),\n",
        "            nn.ReLU(),\n",
        "        )\n",
        "        # No of layers ---> reduce\n",
        "        self.lstm = nn.LSTM(embed_size, hidden_size, num_layers=3,bidirectional=True)\n",
        "        self.output1 = nn.Linear(hidden_size * 2, 1024)\n",
        "        # self.output2 = nn.Linear(1024,1024)\n",
        "        self.dummy = nn.Linear(1024,NUM_CLASSES,bias=False)\n",
        "        self.dummy.weight = torch.nn.Parameter(zeroshot_weights.float().T.clone(), requires_grad=False)\n",
        "\n",
        "        # self.dummy.requires_grad = True\n",
        "        # self.output3 = zeroshot_weights_.float().cuda()\n",
        "\n",
        "    \n",
        "    def forward(self, X, lengths):\n",
        "        X_ = torch.transpose(X,2,1)\n",
        "        X_ = F.pad(input=X_, pad=(0,1,0,0), mode='constant', value=0)\n",
        "        X = self.layer1(X_)\n",
        "        X = torch.transpose(X,0,2)\n",
        "        X = torch.transpose(X,1,2)\n",
        "        packed_X = pack_padded_sequence(X, lengths.cpu(), enforce_sorted=False)\n",
        "        packed_out,(h_n,c_n) = self.lstm(packed_X)\n",
        "        out,_ = pad_packed_sequence(packed_out)\n",
        "        out = self.output1(out[0,:,:]) # 1024\n",
        "        # out /= out.norm(dim=-1, keepdim=True) # Normalize the logits. #### SHOULD WE MULTIPLY BY 100\n",
        "        logits = self.dummy(out)\n",
        "        return logits\n",
        "    \n",
        "def init_weights(m):\n",
        "  if type(m) == nn.Conv1d or type(m) == nn.Linear:\n",
        "    torch.nn.init.xavier_normal_(m.weight.data)    "
      ],
      "execution_count": 17,
      "outputs": []
    },
    {
      "cell_type": "markdown",
      "metadata": {
        "id": "H52UmpM948XA"
      },
      "source": [
        "## Dataloader and Dataset"
      ]
    },
    {
      "cell_type": "code",
      "metadata": {
        "id": "fp9kO_-M9XT0"
      },
      "source": [
        "# Dataset class for Train and Dev\n",
        "class Dataset(Dataset):\n",
        "    def __init__(self, path):\n",
        "        self.path = path\n",
        "        self.data = []\n",
        "        for file in os.listdir(self.path):\n",
        "          if fnmatch.fnmatch(file, '*.npz'):\n",
        "            self.data.append(file)\n",
        "\n",
        "        \n",
        "    def __len__(self):\n",
        "        return len(self.data)\n",
        "    def __getitem__(self, index):\n",
        "        data = np.load(os.path.join(self.path,self.data[index]),allow_pickle=True)\n",
        "        sample = torch.from_numpy(data['data']).type(torch.FloatTensor)\n",
        "        label  = torch.tensor(data['label'])#.type(torch.LongTensor)\n",
        "        length = torch.tensor(100)\n",
        "        return sample,label,length"
      ],
      "execution_count": 18,
      "outputs": []
    },
    {
      "cell_type": "code",
      "metadata": {
        "id": "Txbft6JxoSt8"
      },
      "source": [
        "# 1024 X 25"
      ],
      "execution_count": null,
      "outputs": []
    },
    {
      "cell_type": "code",
      "metadata": {
        "id": "YyS2jVIF8CEI"
      },
      "source": [
        "# Dataloader train\n",
        "train_dataset = Dataset(\"/content/drive/MyDrive/NPZ_TRAIN_16824\")\n",
        "train_dataloader = DataLoader(train_dataset, batch_size=64, shuffle=True, num_workers=8)\n",
        "\n",
        "# Dataloader dev\n",
        "# dev_dataset = Dataset(dev_data,dev_labels)\n",
        "# dev_dataloader = DataLoader(dev_dataset, batch_size=64, shuffle=True, collate_fn=pad_collate, num_workers=8)"
      ],
      "execution_count": 39,
      "outputs": []
    },
    {
      "cell_type": "code",
      "metadata": {
        "colab": {
          "base_uri": "https://localhost:8080/"
        },
        "id": "qCXfmiJb8TSU",
        "outputId": "0664daff-5517-493e-8157-58d6b645ab8a"
      },
      "source": [
        "train_dataset.__len__()"
      ],
      "execution_count": 40,
      "outputs": [
        {
          "output_type": "execute_result",
          "data": {
            "text/plain": [
              "12621"
            ]
          },
          "metadata": {
            "tags": []
          },
          "execution_count": 40
        }
      ]
    },
    {
      "cell_type": "markdown",
      "metadata": {
        "id": "ZyAuWGaq8Cvd"
      },
      "source": [
        "## Train and Test Loop"
      ]
    },
    {
      "cell_type": "code",
      "metadata": {
        "id": "MhvmaJyV5zp8"
      },
      "source": [
        "# Set the hyperparameters of the model\n",
        "numEpochs = 25\n",
        "num_feats = 1024\n",
        "learningRate = 1e-3\n",
        "weightDecay = 5e-6\n",
        "num_classes = 25\n",
        "hidden_size = 512\n",
        "embed_size = 1000"
      ],
      "execution_count": 57,
      "outputs": []
    },
    {
      "cell_type": "code",
      "metadata": {
        "colab": {
          "base_uri": "https://localhost:8080/"
        },
        "id": "O0Jx4QysSps9",
        "outputId": "5794b3a1-6ff5-4856-94e5-f5fa76f7c689"
      },
      "source": [
        "!tensorboard --logdir logs"
      ],
      "execution_count": 161,
      "outputs": [
        {
          "output_type": "stream",
          "text": [
            "2021-05-02 05:30:11.907317: I tensorflow/stream_executor/platform/default/dso_loader.cc:49] Successfully opened dynamic library libcudart.so.11.0\n",
            "Serving TensorBoard on localhost; to expose to the network, use a proxy or pass --bind_all\n",
            "TensorBoard 2.4.1 at http://localhost:6006/ (Press CTRL+C to quit)\n"
          ],
          "name": "stdout"
        }
      ]
    },
    {
      "cell_type": "code",
      "metadata": {
        "id": "ASg7EsTG52RX"
      },
      "source": [
        "# Model Initialisation\n",
        "device = torch.device('cuda' if torch.cuda.is_available() else 'cpu')\n",
        "model = Model(num_feats,embed_size,num_classes,hidden_size)\n",
        "model.apply(init_weights)\n",
        "model.to(device)\n",
        "criterion = nn.CrossEntropyLoss()\n",
        "optimizer = torch.optim.Adam(model.parameters(), lr=learningRate)\n",
        "writer = SummaryWriter(log_dir='runs/lstm')"
      ],
      "execution_count": 58,
      "outputs": []
    },
    {
      "cell_type": "code",
      "metadata": {
        "id": "ujDFrKzbAbex"
      },
      "source": [
        "# Train Function\n",
        "def validate(model, data_loader):\n",
        "    model.eval()\n",
        "    correct = 0\n",
        "    total = 0\n",
        "    loss = []\n",
        "    for batch_num, (feats,labels,lengths) in enumerate(data_loader):\n",
        "      feats,labels = feats.to(device),labels[:,0].to(device)\n",
        "      out = model(feats,lengths)\n",
        "      curr_loss = criterion(out, labels.long())\n",
        "      correct += (torch.argmax(out,dim=1)==labels).sum().detach().cpu().numpy()\n",
        "      total += feats.shape[0]\n",
        "      # Compute loss\n",
        "      loss.append(curr_loss.item()) \n",
        "\n",
        "    avg_loss = np.mean(loss)\n",
        "    print(\"Accuracy:\",correct/total)\n",
        "    writer.add_scalar('Val/Loss', avg_loss) \n",
        "    writer.add_scalar('Val/Accuracy', correct/total) \n",
        "    return avg_loss,correct/total"
      ],
      "execution_count": 59,
      "outputs": []
    },
    {
      "cell_type": "code",
      "metadata": {
        "id": "Go7rudBF5tBW"
      },
      "source": [
        "# Train Function\n",
        "train_loss = []\n",
        "val_loss = []\n",
        "val_acc = []\n",
        "def train(model, data_loader,numEpochs,val_dataloader):\n",
        "    model.train()\n",
        "    for epoch in range(numEpochs):\n",
        "      avg_loss = 0.0    \n",
        "      for batch_num, (feats,labels,lengths) in enumerate(data_loader):\n",
        "        torch.autograd.set_detect_anomaly(True)\n",
        "        optimizer.zero_grad()\n",
        "        feats,labels = feats.to(device),labels[:,0].to(device)\n",
        "        out = model(feats,lengths)\n",
        "        loss = criterion(out, labels.long())\n",
        "        loss.backward()\n",
        "        optimizer.step()         \n",
        "        avg_loss += loss.item()\n",
        "        if batch_num % 50 == 49:\n",
        "          print('Epoch: {}\\tBatch: {}\\tAvg-Loss: {:.4f}'.format(epoch+1, batch_num+1, avg_loss/50))\n",
        "          train_loss.append(avg_loss/50)\n",
        "          writer.add_scalar('Train/Loss', avg_loss/50)\n",
        "          avg_loss = 0.0  \n",
        "          vloss,vacc = validate(model,val_dataloader)\n",
        "          val_loss.append(vloss)\n",
        "          val_acc.append(vacc)\n",
        "          model.train()"
      ],
      "execution_count": 60,
      "outputs": []
    },
    {
      "cell_type": "code",
      "metadata": {
        "colab": {
          "base_uri": "https://localhost:8080/"
        },
        "id": "DX46hf27868-",
        "outputId": "f663da7a-cab7-4662-f90c-81495e8d72ba"
      },
      "source": [
        "val_dataset = Dataset(\"/content/drive/MyDrive/NPZ_VALIDATION_16824\")\n",
        "val_dataloader = DataLoader(val_dataset, batch_size=64, shuffle=False, num_workers=8)\n",
        "train(model,train_dataloader,numEpochs,val_dataloader)"
      ],
      "execution_count": 61,
      "outputs": [
        {
          "output_type": "stream",
          "text": [
            "Epoch: 1\tBatch: 50\tAvg-Loss: 2.2911\n",
            "Accuracy: 0.39473684210526316\n",
            "Epoch: 1\tBatch: 100\tAvg-Loss: 1.3261\n",
            "Accuracy: 0.5797448165869219\n",
            "Epoch: 1\tBatch: 150\tAvg-Loss: 1.1393\n",
            "Accuracy: 0.6323763955342903\n",
            "Epoch: 2\tBatch: 50\tAvg-Loss: 0.8755\n",
            "Accuracy: 0.6547049441786283\n",
            "Epoch: 2\tBatch: 100\tAvg-Loss: 0.8627\n",
            "Accuracy: 0.6802232854864434\n",
            "Epoch: 2\tBatch: 150\tAvg-Loss: 0.8371\n",
            "Accuracy: 0.7161084529505582\n",
            "Epoch: 3\tBatch: 50\tAvg-Loss: 0.6851\n",
            "Accuracy: 0.6953748006379585\n",
            "Epoch: 3\tBatch: 100\tAvg-Loss: 0.6559\n",
            "Accuracy: 0.696969696969697\n",
            "Epoch: 3\tBatch: 150\tAvg-Loss: 0.6663\n",
            "Accuracy: 0.726475279106858\n",
            "Epoch: 4\tBatch: 50\tAvg-Loss: 0.5102\n",
            "Accuracy: 0.7033492822966507\n",
            "Epoch: 4\tBatch: 100\tAvg-Loss: 0.5639\n",
            "Accuracy: 0.7089314194577353\n",
            "Epoch: 4\tBatch: 150\tAvg-Loss: 0.5711\n",
            "Accuracy: 0.7352472089314195\n",
            "Epoch: 5\tBatch: 50\tAvg-Loss: 0.4413\n",
            "Accuracy: 0.7272727272727273\n",
            "Epoch: 5\tBatch: 100\tAvg-Loss: 0.4632\n",
            "Accuracy: 0.7145135566188198\n",
            "Epoch: 5\tBatch: 150\tAvg-Loss: 0.4865\n",
            "Accuracy: 0.74481658692185\n",
            "Epoch: 6\tBatch: 50\tAvg-Loss: 0.4035\n",
            "Accuracy: 0.7145135566188198\n",
            "Epoch: 6\tBatch: 100\tAvg-Loss: 0.3742\n",
            "Accuracy: 0.7392344497607656\n",
            "Epoch: 6\tBatch: 150\tAvg-Loss: 0.3921\n",
            "Accuracy: 0.7137161084529505\n",
            "Epoch: 7\tBatch: 50\tAvg-Loss: 0.3378\n",
            "Accuracy: 0.7272727272727273\n",
            "Epoch: 7\tBatch: 100\tAvg-Loss: 0.3515\n",
            "Accuracy: 0.7145135566188198\n",
            "Epoch: 7\tBatch: 150\tAvg-Loss: 0.3570\n",
            "Accuracy: 0.7208931419457735\n",
            "Epoch: 8\tBatch: 50\tAvg-Loss: 0.2491\n",
            "Accuracy: 0.7216905901116427\n",
            "Epoch: 8\tBatch: 100\tAvg-Loss: 0.2645\n",
            "Accuracy: 0.7185007974481659\n",
            "Epoch: 8\tBatch: 150\tAvg-Loss: 0.2925\n",
            "Accuracy: 0.7496012759170654\n",
            "Epoch: 9\tBatch: 50\tAvg-Loss: 0.2178\n",
            "Accuracy: 0.7376395534290271\n",
            "Epoch: 9\tBatch: 100\tAvg-Loss: 0.2194\n",
            "Accuracy: 0.6977671451355661\n",
            "Epoch: 9\tBatch: 150\tAvg-Loss: 0.2564\n",
            "Accuracy: 0.7256778309409888\n",
            "Epoch: 10\tBatch: 50\tAvg-Loss: 0.2413\n",
            "Accuracy: 0.733652312599681\n",
            "Epoch: 10\tBatch: 100\tAvg-Loss: 0.1702\n",
            "Accuracy: 0.7256778309409888\n",
            "Epoch: 10\tBatch: 150\tAvg-Loss: 0.2260\n",
            "Accuracy: 0.726475279106858\n",
            "Epoch: 11\tBatch: 50\tAvg-Loss: 0.1702\n",
            "Accuracy: 0.7368421052631579\n",
            "Epoch: 11\tBatch: 100\tAvg-Loss: 0.1421\n",
            "Accuracy: 0.7137161084529505\n",
            "Epoch: 11\tBatch: 150\tAvg-Loss: 0.1670\n",
            "Accuracy: 0.7232854864433812\n",
            "Epoch: 12\tBatch: 50\tAvg-Loss: 0.1473\n",
            "Accuracy: 0.7185007974481659\n",
            "Epoch: 12\tBatch: 100\tAvg-Loss: 0.1777\n",
            "Accuracy: 0.7177033492822966\n",
            "Epoch: 12\tBatch: 150\tAvg-Loss: 0.1733\n",
            "Accuracy: 0.7121212121212122\n",
            "Epoch: 13\tBatch: 50\tAvg-Loss: 0.1192\n",
            "Accuracy: 0.7177033492822966\n",
            "Epoch: 13\tBatch: 100\tAvg-Loss: 0.1229\n",
            "Accuracy: 0.726475279106858\n",
            "Epoch: 13\tBatch: 150\tAvg-Loss: 0.1626\n",
            "Accuracy: 0.7113237639553429\n",
            "Epoch: 14\tBatch: 50\tAvg-Loss: 0.1141\n",
            "Accuracy: 0.7272727272727273\n",
            "Epoch: 14\tBatch: 100\tAvg-Loss: 0.1019\n",
            "Accuracy: 0.7216905901116427\n",
            "Epoch: 14\tBatch: 150\tAvg-Loss: 0.1083\n",
            "Accuracy: 0.7208931419457735\n",
            "Epoch: 15\tBatch: 50\tAvg-Loss: 0.0657\n",
            "Accuracy: 0.722488038277512\n",
            "Epoch: 15\tBatch: 100\tAvg-Loss: 0.0816\n",
            "Accuracy: 0.7280701754385965\n",
            "Epoch: 15\tBatch: 150\tAvg-Loss: 0.0917\n",
            "Accuracy: 0.7256778309409888\n",
            "Epoch: 16\tBatch: 50\tAvg-Loss: 0.0727\n",
            "Accuracy: 0.7280701754385965\n",
            "Epoch: 16\tBatch: 100\tAvg-Loss: 0.1027\n",
            "Accuracy: 0.7208931419457735\n",
            "Epoch: 16\tBatch: 150\tAvg-Loss: 0.0949\n",
            "Accuracy: 0.7320574162679426\n",
            "Epoch: 17\tBatch: 50\tAvg-Loss: 0.0670\n",
            "Accuracy: 0.7272727272727273\n",
            "Epoch: 17\tBatch: 100\tAvg-Loss: 0.0803\n",
            "Accuracy: 0.726475279106858\n",
            "Epoch: 17\tBatch: 150\tAvg-Loss: 0.0872\n",
            "Accuracy: 0.7177033492822966\n",
            "Epoch: 18\tBatch: 50\tAvg-Loss: 0.0716\n",
            "Accuracy: 0.7177033492822966\n",
            "Epoch: 18\tBatch: 100\tAvg-Loss: 0.0700\n",
            "Accuracy: 0.7248803827751196\n",
            "Epoch: 18\tBatch: 150\tAvg-Loss: 0.0795\n",
            "Accuracy: 0.7296650717703349\n",
            "Epoch: 19\tBatch: 50\tAvg-Loss: 0.0497\n",
            "Accuracy: 0.7312599681020734\n",
            "Epoch: 19\tBatch: 100\tAvg-Loss: 0.0496\n",
            "Accuracy: 0.7352472089314195\n",
            "Epoch: 19\tBatch: 150\tAvg-Loss: 0.0411\n",
            "Accuracy: 0.715311004784689\n",
            "Epoch: 20\tBatch: 50\tAvg-Loss: 0.0437\n",
            "Accuracy: 0.7320574162679426\n",
            "Epoch: 20\tBatch: 100\tAvg-Loss: 0.0590\n",
            "Accuracy: 0.726475279106858\n",
            "Epoch: 20\tBatch: 150\tAvg-Loss: 0.0633\n",
            "Accuracy: 0.7081339712918661\n",
            "Epoch: 21\tBatch: 50\tAvg-Loss: 0.0463\n",
            "Accuracy: 0.74481658692185\n",
            "Epoch: 21\tBatch: 100\tAvg-Loss: 0.0580\n",
            "Accuracy: 0.7344497607655502\n",
            "Epoch: 21\tBatch: 150\tAvg-Loss: 0.0654\n",
            "Accuracy: 0.7248803827751196\n",
            "Epoch: 22\tBatch: 50\tAvg-Loss: 0.0664\n",
            "Accuracy: 0.726475279106858\n",
            "Epoch: 22\tBatch: 100\tAvg-Loss: 0.0452\n",
            "Accuracy: 0.7288676236044657\n",
            "Epoch: 22\tBatch: 150\tAvg-Loss: 0.0465\n",
            "Accuracy: 0.7368421052631579\n",
            "Epoch: 23\tBatch: 50\tAvg-Loss: 0.0816\n",
            "Accuracy: 0.7256778309409888\n",
            "Epoch: 23\tBatch: 100\tAvg-Loss: 0.0805\n",
            "Accuracy: 0.7440191387559809\n",
            "Epoch: 23\tBatch: 150\tAvg-Loss: 0.0742\n",
            "Accuracy: 0.7432216905901117\n",
            "Epoch: 24\tBatch: 50\tAvg-Loss: 0.0274\n",
            "Accuracy: 0.7280701754385965\n",
            "Epoch: 24\tBatch: 100\tAvg-Loss: 0.0522\n",
            "Accuracy: 0.7328548644338118\n",
            "Epoch: 24\tBatch: 150\tAvg-Loss: 0.0452\n",
            "Accuracy: 0.7288676236044657\n",
            "Epoch: 25\tBatch: 50\tAvg-Loss: 0.0286\n",
            "Accuracy: 0.7328548644338118\n",
            "Epoch: 25\tBatch: 100\tAvg-Loss: 0.0334\n",
            "Accuracy: 0.7272727272727273\n",
            "Epoch: 25\tBatch: 150\tAvg-Loss: 0.0620\n",
            "Accuracy: 0.7328548644338118\n"
          ],
          "name": "stdout"
        }
      ]
    },
    {
      "cell_type": "code",
      "metadata": {
        "colab": {
          "base_uri": "https://localhost:8080/",
          "height": 298
        },
        "id": "Zw-BN3SpfWqc",
        "outputId": "b70ed231-90dc-4fcb-a424-78919543a430"
      },
      "source": [
        "import matplotlib.pyplot as plt\n",
        "plt.plot(train_loss)\n",
        "plt.plot(val_loss)\n",
        "plt.title(\"Train and Validation Loss\")\n"
      ],
      "execution_count": 64,
      "outputs": [
        {
          "output_type": "execute_result",
          "data": {
            "text/plain": [
              "Text(0.5, 1.0, 'Train and Validation Loss')"
            ]
          },
          "metadata": {
            "tags": []
          },
          "execution_count": 64
        },
        {
          "output_type": "display_data",
          "data": {
            "image/png": "[encoded data removed]",
            "text/plain": [
              "<Figure size 432x288 with 1 Axes>"
            ]
          },
          "metadata": {
            "tags": [],
            "needs_background": "light"
          }
        }
      ]
    },
    {
      "cell_type": "code",
      "metadata": {
        "colab": {
          "base_uri": "https://localhost:8080/",
          "height": 298
        },
        "id": "QfovuGRMEu4w",
        "outputId": "84dbf076-9c55-4dc4-aa63-76eae59eab42"
      },
      "source": [
        "plt.plot(val_acc)\n",
        "plt.title(\"Validation Accuracy\")"
      ],
      "execution_count": 65,
      "outputs": [
        {
          "output_type": "execute_result",
          "data": {
            "text/plain": [
              "Text(0.5, 1.0, 'Validation Accuracy')"
            ]
          },
          "metadata": {
            "tags": []
          },
          "execution_count": 65
        },
        {
          "output_type": "display_data",
          "data": {
            "image/png": "[encoded data removed]",
            "text/plain": [
              "<Figure size 432x288 with 1 Axes>"
            ]
          },
          "metadata": {
            "tags": [],
            "needs_background": "light"
          }
        }
      ]
    }
  ]
}